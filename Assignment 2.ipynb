{
 "cells": [
  {
   "cell_type": "markdown",
   "id": "a5440cc5",
   "metadata": {},
   "source": [
    "# Assignment Questions 2"
   ]
  },
  {
   "cell_type": "markdown",
   "id": "d30cdf42",
   "metadata": {},
   "source": [
    "# <aside>\n",
    "💡 Based on the discussion from the session complete the following tasks.\n",
    "\n",
    "- Make an exhaustive list of skills that you possess, which can be later used in resume-making.\n",
    "- Make a list of the recognition that you have gained in the form of awards and achievements.\n",
    "- Make an exhaustive list of personal qualities that you consider strengths and what you have achieved using them.\n",
    "\n",
    "Make a video adding the skills and strengths part discussed in this session and the introduction topic discussed in the previous session.\n",
    "\n",
    "</aside>"
   ]
  },
  {
   "cell_type": "markdown",
   "id": "8830623e",
   "metadata": {},
   "source": [
    "# Solution"
   ]
  },
  {
   "cell_type": "markdown",
   "id": "94e80c15",
   "metadata": {},
   "source": [
    "1.Communication Skills:\n",
    "\n",
    "Verbal Communication\n",
    "\n",
    "Written Communication\n",
    "\n",
    "Interpersonal Skills\n",
    "\n",
    "Listening Skills\n",
    "\n",
    "Presentation Skills\n"
   ]
  },
  {
   "cell_type": "markdown",
   "id": "6f4c68dd",
   "metadata": {},
   "source": [
    "2.Technical Skills:\n",
    "    \n",
    "Database Management (SQL, NoSQL)\n",
    "\n",
    "Data Analysis (Excel, Tableau)\n",
    "\n",
    "Machine Learning and AI\n",
    "\n",
    "Statistics\n",
    "\n",
    "Deep Learning\n",
    "\n",
    "Python\n",
    "\n",
    "    \n",
    "\n",
    "    \n",
    "    \n",
    "    "
   ]
  },
  {
   "cell_type": "markdown",
   "id": "8d3fd3e6",
   "metadata": {},
   "source": [
    "3.Leadership Skills:\n",
    "    \n",
    "Team Management\n",
    "\n",
    "Decision Making\n",
    "\n",
    "Motivation\n",
    "\n",
    "Problem Solving\n",
    "\n",
    "Strategic Planning\n",
    "   "
   ]
  },
  {
   "cell_type": "markdown",
   "id": "b06a3c87",
   "metadata": {},
   "source": [
    "4.Organizational Skills:\n",
    "\n",
    "Time Management\n",
    "\n",
    "Prioritization\n",
    "\n",
    "Scheduling"
   ]
  },
  {
   "cell_type": "markdown",
   "id": "06028f17",
   "metadata": {},
   "source": [
    "My personal qualities like Leadership, determination and creativity make an college fest and seminar successful. These quality was developed in me because kind of work i was doing needs such quality ."
   ]
  },
  {
   "cell_type": "markdown",
   "id": "5a61aba4",
   "metadata": {},
   "source": [
    "I am also volunteer of SNM Foundation, where we used to creates drives in city like cleanlyness, Tree Planting, Blood Donation camps, during COvid-19 we used to ditribute the food packets to the families and underpreviledge children."
   ]
  },
  {
   "cell_type": "code",
   "execution_count": null,
   "id": "aea7170c",
   "metadata": {},
   "outputs": [],
   "source": []
  }
 ],
 "metadata": {
  "kernelspec": {
   "display_name": "Python 3 (ipykernel)",
   "language": "python",
   "name": "python3"
  },
  "language_info": {
   "codemirror_mode": {
    "name": "ipython",
    "version": 3
   },
   "file_extension": ".py",
   "mimetype": "text/x-python",
   "name": "python",
   "nbconvert_exporter": "python",
   "pygments_lexer": "ipython3",
   "version": "3.9.7"
  }
 },
 "nbformat": 4,
 "nbformat_minor": 5
}
