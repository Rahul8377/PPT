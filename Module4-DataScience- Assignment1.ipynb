{
 "cells": [
  {
   "cell_type": "markdown",
   "id": "918abdd8",
   "metadata": {},
   "source": [
    "# 1. Write a Python program to reverse a string without using any built-in string reversal functions.\n"
   ]
  },
  {
   "cell_type": "code",
   "execution_count": 1,
   "id": "66e5c8a5",
   "metadata": {},
   "outputs": [
    {
     "name": "stdout",
     "output_type": "stream",
     "text": [
      "Enter a string to reverse: Rahul Amberia\n",
      "Reversed string: airebmA luhaR\n"
     ]
    }
   ],
   "source": [
    "def reverse_string(input_string):\n",
    "    # Initialize an empty string to store the reversed string\n",
    "    reversed_string = \"\"\n",
    "\n",
    "    # Iterate through the input string in reverse order and append characters to the new string\n",
    "    for i in range(len(input_string) - 1, -1, -1):\n",
    "        reversed_string += input_string[i]\n",
    "\n",
    "    return reversed_string\n",
    "\n",
    "# Test the function\n",
    "if __name__ == \"__main__\":\n",
    "    input_str = input(\"Enter a string to reverse: \")\n",
    "    reversed_str = reverse_string(input_str)\n",
    "    print(\"Reversed string:\", reversed_str)\n"
   ]
  },
  {
   "cell_type": "markdown",
   "id": "e42123eb",
   "metadata": {},
   "source": [
    "# 2. Implement a function to check if a given string is a palindrome.\n"
   ]
  },
  {
   "cell_type": "code",
   "execution_count": 2,
   "id": "03bac94d",
   "metadata": {},
   "outputs": [
    {
     "name": "stdout",
     "output_type": "stream",
     "text": [
      "Enter a string to check if it's a palindrome: Rahul\n",
      "The string is not a palindrome.\n"
     ]
    }
   ],
   "source": [
    "def is_palindrome(input_string):\n",
    "    # Remove any non-alphanumeric characters and convert the string to lowercase\n",
    "    cleaned_string = ''.join(char.lower() for char in input_string if char.isalnum())\n",
    "\n",
    "    # Check if the cleaned string is equal to its reverse\n",
    "    return cleaned_string == cleaned_string[::-1]\n",
    "\n",
    "# Test the function\n",
    "if __name__ == \"__main__\":\n",
    "    input_str = input(\"Enter a string to check if it's a palindrome: \")\n",
    "    if is_palindrome(input_str):\n",
    "        print(\"The string is a palindrome.\")\n",
    "    else:\n",
    "        print(\"The string is not a palindrome.\")\n"
   ]
  },
  {
   "cell_type": "markdown",
   "id": "ed893de5",
   "metadata": {},
   "source": [
    "# 3. Write a program to find the largest element in a given list.\n"
   ]
  },
  {
   "cell_type": "code",
   "execution_count": 3,
   "id": "e2c1c68c",
   "metadata": {},
   "outputs": [
    {
     "name": "stdout",
     "output_type": "stream",
     "text": [
      "Enter a list of numbers separated by spaces: 34 4 6 7 78 7 645 4 34 223 45\n",
      "The largest element in the list is: 645\n"
     ]
    }
   ],
   "source": [
    "def find_largest_element(input_list):\n",
    "    if not input_list:\n",
    "        return None  # Return None if the list is empty\n",
    "\n",
    "    largest_element = input_list[0]  # Initialize largest_element with the first element\n",
    "\n",
    "    for element in input_list:\n",
    "        if element > largest_element:\n",
    "            largest_element = element\n",
    "\n",
    "    return largest_element\n",
    "\n",
    "# Test the function\n",
    "if __name__ == \"__main__\":\n",
    "    try:\n",
    "        input_list = [int(x) for x in input(\"Enter a list of numbers separated by spaces: \").split()]\n",
    "        largest = find_largest_element(input_list)\n",
    "        if largest is not None:\n",
    "            print(\"The largest element in the list is:\", largest)\n",
    "        else:\n",
    "            print(\"The list is empty.\")\n",
    "    except ValueError:\n",
    "        print(\"Invalid input. Please enter a valid list of numbers.\")\n"
   ]
  },
  {
   "cell_type": "markdown",
   "id": "0f04eb96",
   "metadata": {},
   "source": [
    "# 4. Implement a function to count the occurrence of each element in a list.\n"
   ]
  },
  {
   "cell_type": "code",
   "execution_count": 4,
   "id": "f2523da9",
   "metadata": {},
   "outputs": [
    {
     "name": "stdout",
     "output_type": "stream",
     "text": [
      "Enter a list of numbers separated by spaces: 34 56 67 89 90 098 654 53\n",
      "Occurrences of each element in the list:\n",
      "34: 1\n",
      "56: 1\n",
      "67: 1\n",
      "89: 1\n",
      "90: 1\n",
      "98: 1\n",
      "654: 1\n",
      "53: 1\n"
     ]
    }
   ],
   "source": [
    "def count_occurrences(input_list):\n",
    "    occurrence_count = {}\n",
    "    \n",
    "    for element in input_list:\n",
    "        occurrence_count[element] = occurrence_count.get(element, 0) + 1\n",
    "\n",
    "    return occurrence_count\n",
    "\n",
    "# Test the function\n",
    "if __name__ == \"__main__\":\n",
    "    try:\n",
    "        input_list = [int(x) for x in input(\"Enter a list of numbers separated by spaces: \").split()]\n",
    "        occurrences = count_occurrences(input_list)\n",
    "        print(\"Occurrences of each element in the list:\")\n",
    "        for element, count in occurrences.items():\n",
    "            print(f\"{element}: {count}\")\n",
    "    except ValueError:\n",
    "        print(\"Invalid input. Please enter a valid list of numbers.\")\n"
   ]
  },
  {
   "cell_type": "markdown",
   "id": "955d1899",
   "metadata": {},
   "source": [
    "# 5. Write a Python program to find the second largest number in a list.\n"
   ]
  },
  {
   "cell_type": "code",
   "execution_count": 5,
   "id": "3ca9f2f0",
   "metadata": {},
   "outputs": [
    {
     "name": "stdout",
     "output_type": "stream",
     "text": [
      "Enter a list of numbers separated by spaces: 23 45 67 83 85 43 86 76 34 67\n",
      "The second largest number in the list is: 85\n"
     ]
    }
   ],
   "source": [
    "def find_second_largest(input_list):\n",
    "    if len(input_list) < 2:\n",
    "        return None  # Return None if the list has less than two elements\n",
    "\n",
    "    # Initialize largest and second_largest with the first two elements of the list\n",
    "    largest = max(input_list[0], input_list[1])\n",
    "    second_largest = min(input_list[0], input_list[1])\n",
    "\n",
    "    for num in input_list[2:]:\n",
    "        if num > largest:\n",
    "            second_largest = largest\n",
    "            largest = num\n",
    "        elif num > second_largest:\n",
    "            second_largest = num\n",
    "\n",
    "    return second_largest\n",
    "\n",
    "# Test the function\n",
    "if __name__ == \"__main__\":\n",
    "    try:\n",
    "        input_list = [int(x) for x in input(\"Enter a list of numbers separated by spaces: \").split()]\n",
    "        second_largest_num = find_second_largest(input_list)\n",
    "        if second_largest_num is not None:\n",
    "            print(\"The second largest number in the list is:\", second_largest_num)\n",
    "        else:\n",
    "            print(\"The list should have at least two elements.\")\n",
    "    except ValueError:\n",
    "        print(\"Invalid input. Please enter a valid list of numbers.\")\n"
   ]
  },
  {
   "cell_type": "markdown",
   "id": "828e0745",
   "metadata": {},
   "source": [
    "# 6. Implement a function to remove duplicate elements from a list.\n"
   ]
  },
  {
   "cell_type": "code",
   "execution_count": 6,
   "id": "34b3d497",
   "metadata": {},
   "outputs": [
    {
     "name": "stdout",
     "output_type": "stream",
     "text": [
      "Enter a list of numbers separated by spaces: 34 56 78 89 90 6 5 3445 65 56 87 54 45 54\n",
      "List with duplicates removed: [34, 56, 78, 89, 90, 6, 5, 3445, 65, 87, 54, 45]\n"
     ]
    }
   ],
   "source": [
    "def remove_duplicates(input_list):\n",
    "    unique_list = []\n",
    "    for element in input_list:\n",
    "        if element not in unique_list:\n",
    "            unique_list.append(element)\n",
    "    return unique_list\n",
    "\n",
    "# Test the function\n",
    "if __name__ == \"__main__\":\n",
    "    try:\n",
    "        input_list = [int(x) for x in input(\"Enter a list of numbers separated by spaces: \").split()]\n",
    "        result_list = remove_duplicates(input_list)\n",
    "        print(\"List with duplicates removed:\", result_list)\n",
    "    except ValueError:\n",
    "        print(\"Invalid input. Please enter a valid list of numbers.\")\n"
   ]
  },
  {
   "cell_type": "markdown",
   "id": "89178c71",
   "metadata": {},
   "source": [
    "# 7. Write a program to calculate the factorial of a given number.\n"
   ]
  },
  {
   "cell_type": "code",
   "execution_count": 7,
   "id": "be1c254c",
   "metadata": {},
   "outputs": [
    {
     "name": "stdout",
     "output_type": "stream",
     "text": [
      "Enter a number to calculate its factorial: 5\n",
      "The factorial of 5 is: 120\n"
     ]
    }
   ],
   "source": [
    "def factorial(number):\n",
    "    if number < 0:\n",
    "        return None  # Factorial is not defined for negative numbers\n",
    "    elif number == 0:\n",
    "        return 1  # The factorial of 0 is 1\n",
    "    else:\n",
    "        result = 1\n",
    "        for i in range(1, number + 1):\n",
    "            result *= i\n",
    "        return result\n",
    "\n",
    "# Test the function\n",
    "if __name__ == \"__main__\":\n",
    "    try:\n",
    "        num = int(input(\"Enter a number to calculate its factorial: \"))\n",
    "        factorial_result = factorial(num)\n",
    "        if factorial_result is not None:\n",
    "            print(f\"The factorial of {num} is: {factorial_result}\")\n",
    "        else:\n",
    "            print(\"Factorial is not defined for negative numbers.\")\n",
    "    except ValueError:\n",
    "        print(\"Invalid input. Please enter a valid number.\")\n"
   ]
  },
  {
   "cell_type": "markdown",
   "id": "54a12253",
   "metadata": {},
   "source": [
    "# 8. Implement a function to check if a given number is prime.\n"
   ]
  },
  {
   "cell_type": "code",
   "execution_count": 8,
   "id": "3df7a705",
   "metadata": {},
   "outputs": [
    {
     "name": "stdout",
     "output_type": "stream",
     "text": [
      "Enter a number to check if it's prime: 19\n",
      "19 is a prime number.\n"
     ]
    }
   ],
   "source": [
    "def is_prime(number):\n",
    "    if number <= 1:\n",
    "        return False  # 0 and 1 are not prime numbers\n",
    "    if number == 2:\n",
    "        return True   # 2 is the only even prime number\n",
    "    if number % 2 == 0:\n",
    "        return False  # Even numbers greater than 2 are not prime\n",
    "\n",
    "    # Check for divisors from 3 up to the square root of the number\n",
    "    for i in range(3, int(number**0.5) + 1, 2):\n",
    "        if number % i == 0:\n",
    "            return False  # Found a divisor, number is not prime\n",
    "\n",
    "    return True  # If no divisors found, number is prime\n",
    "\n",
    "# Test the function\n",
    "if __name__ == \"__main__\":\n",
    "    try:\n",
    "        num = int(input(\"Enter a number to check if it's prime: \"))\n",
    "        if is_prime(num):\n",
    "            print(f\"{num} is a prime number.\")\n",
    "        else:\n",
    "            print(f\"{num} is not a prime number.\")\n",
    "    except ValueError:\n",
    "        print(\"Invalid input. Please enter a valid number.\")\n"
   ]
  },
  {
   "cell_type": "markdown",
   "id": "bfdb976d",
   "metadata": {},
   "source": [
    "# 9. Write a Python program to sort a list of integers in ascending order.\n"
   ]
  },
  {
   "cell_type": "code",
   "execution_count": 9,
   "id": "277e1f78",
   "metadata": {},
   "outputs": [
    {
     "name": "stdout",
     "output_type": "stream",
     "text": [
      "Enter a list of integers separated by spaces: 34 56 67 78 6 54 23 43 89\n",
      "Sorted list in ascending order: [6, 23, 34, 43, 54, 56, 67, 78, 89]\n"
     ]
    }
   ],
   "source": [
    "def sort_list_ascending(input_list):\n",
    "    return sorted(input_list)\n",
    "\n",
    "# Test the function\n",
    "if __name__ == \"__main__\":\n",
    "    try:\n",
    "        input_list = [int(x) for x in input(\"Enter a list of integers separated by spaces: \").split()]\n",
    "        sorted_list = sort_list_ascending(input_list)\n",
    "        print(\"Sorted list in ascending order:\", sorted_list)\n",
    "    except ValueError:\n",
    "        print(\"Invalid input. Please enter a valid list of integers.\")\n"
   ]
  },
  {
   "cell_type": "markdown",
   "id": "82956fc2",
   "metadata": {},
   "source": [
    "# 10. Implement a function to find the sum of all numbers in a list.\n"
   ]
  },
  {
   "cell_type": "code",
   "execution_count": 10,
   "id": "66939166",
   "metadata": {},
   "outputs": [
    {
     "name": "stdout",
     "output_type": "stream",
     "text": [
      "Enter a list of numbers separated by spaces: 23 45 56 78 89 54 32 134 565 654\n",
      "Sum of all numbers in the list: 1730\n"
     ]
    }
   ],
   "source": [
    "def sum_of_numbers(input_list):\n",
    "    total_sum = 0\n",
    "    for number in input_list:\n",
    "        total_sum += number\n",
    "    return total_sum\n",
    "\n",
    "# Test the function\n",
    "if __name__ == \"__main__\":\n",
    "    try:\n",
    "        input_list = [int(x) for x in input(\"Enter a list of numbers separated by spaces: \").split()]\n",
    "        result_sum = sum_of_numbers(input_list)\n",
    "        print(\"Sum of all numbers in the list:\", result_sum)\n",
    "    except ValueError:\n",
    "        print(\"Invalid input. Please enter a valid list of numbers.\")\n"
   ]
  },
  {
   "cell_type": "markdown",
   "id": "f146fe55",
   "metadata": {},
   "source": [
    "# 11. Write a program to find the common elements between two lists.\n"
   ]
  },
  {
   "cell_type": "code",
   "execution_count": 11,
   "id": "8d21727b",
   "metadata": {},
   "outputs": [
    {
     "name": "stdout",
     "output_type": "stream",
     "text": [
      "Enter the first list of numbers separated by spaces: 34 45 56 78 56 45 78 89 65 78 32 54 65 78\n",
      "Enter the second list of numbers separated by spaces: 34 45 76 87 98 56 67 54 56\n",
      "Common elements between the two lists: [56, 34, 45, 54]\n"
     ]
    }
   ],
   "source": [
    "def find_common_elements(list1, list2):\n",
    "    # Convert lists to sets to easily find the intersection (common elements)\n",
    "    set1 = set(list1)\n",
    "    set2 = set(list2)\n",
    "\n",
    "    # Find the common elements using the intersection method of sets\n",
    "    common_elements = set1.intersection(set2)\n",
    "\n",
    "    return list(common_elements)\n",
    "\n",
    "# Test the function\n",
    "if __name__ == \"__main__\":\n",
    "    try:\n",
    "        input_list1 = [int(x) for x in input(\"Enter the first list of numbers separated by spaces: \").split()]\n",
    "        input_list2 = [int(x) for x in input(\"Enter the second list of numbers separated by spaces: \").split()]\n",
    "        common_elements = find_common_elements(input_list1, input_list2)\n",
    "        print(\"Common elements between the two lists:\", common_elements)\n",
    "    except ValueError:\n",
    "        print(\"Invalid input. Please enter valid lists of numbers.\")\n"
   ]
  },
  {
   "cell_type": "markdown",
   "id": "ab8cbeef",
   "metadata": {},
   "source": [
    "# 12. Implement a function to check if a given string is an anagram of another string.\n"
   ]
  },
  {
   "cell_type": "code",
   "execution_count": 12,
   "id": "77440b8b",
   "metadata": {},
   "outputs": [
    {
     "name": "stdout",
     "output_type": "stream",
     "text": [
      "Enter the first string: I am good at python\n",
      "Enter the second string: I am good at machine learning\n",
      "The two strings are not anagrams.\n"
     ]
    }
   ],
   "source": [
    "def is_anagram(str1, str2):\n",
    "    # Remove any non-alphanumeric characters and convert strings to lowercase\n",
    "    str1_cleaned = ''.join(char.lower() for char in str1 if char.isalnum())\n",
    "    str2_cleaned = ''.join(char.lower() for char in str2 if char.isalnum())\n",
    "\n",
    "    # Check if the cleaned strings are anagrams\n",
    "    return sorted(str1_cleaned) == sorted(str2_cleaned)\n",
    "\n",
    "# Test the function\n",
    "if __name__ == \"__main__\":\n",
    "    try:\n",
    "        str1 = input(\"Enter the first string: \")\n",
    "        str2 = input(\"Enter the second string: \")\n",
    "        if is_anagram(str1, str2):\n",
    "            print(\"The two strings are anagrams.\")\n",
    "        else:\n",
    "            print(\"The two strings are not anagrams.\")\n",
    "    except ValueError:\n",
    "        print(\"Invalid input. Please enter valid strings.\")\n"
   ]
  },
  {
   "cell_type": "markdown",
   "id": "d72f4321",
   "metadata": {},
   "source": [
    "# 13. Write a Python program to generate all permutations of a given string.\n"
   ]
  },
  {
   "cell_type": "code",
   "execution_count": 13,
   "id": "dbdea8ea",
   "metadata": {},
   "outputs": [
    {
     "name": "stdout",
     "output_type": "stream",
     "text": [
      "Enter a string: abcd\n",
      "All permutations of the string:\n",
      "abcd\n",
      "abdc\n",
      "acbd\n",
      "acdb\n",
      "adbc\n",
      "adcb\n",
      "bacd\n",
      "badc\n",
      "bcad\n",
      "bcda\n",
      "bdac\n",
      "bdca\n",
      "cabd\n",
      "cadb\n",
      "cbad\n",
      "cbda\n",
      "cdab\n",
      "cdba\n",
      "dabc\n",
      "dacb\n",
      "dbac\n",
      "dbca\n",
      "dcab\n",
      "dcba\n"
     ]
    }
   ],
   "source": [
    "import itertools\n",
    "\n",
    "def generate_permutations(input_string):\n",
    "    # Get all permutations of the characters in the input string\n",
    "    permutations = itertools.permutations(input_string)\n",
    "\n",
    "    # Convert permutations to a list of strings\n",
    "    permutation_list = [''.join(perm) for perm in permutations]\n",
    "\n",
    "    return permutation_list\n",
    "\n",
    "if __name__ == \"__main__\":\n",
    "    input_string = input(\"Enter a string: \")\n",
    "    all_permutations = generate_permutations(input_string)\n",
    "    print(\"All permutations of the string:\")\n",
    "    for permutation in all_permutations:\n",
    "        print(permutation)\n"
   ]
  },
  {
   "cell_type": "markdown",
   "id": "b5e239ce",
   "metadata": {},
   "source": [
    "# 14. Implement a function to calculate the Fibonacci sequence up to a given number of terms.\n"
   ]
  },
  {
   "cell_type": "code",
   "execution_count": 15,
   "id": "55a08c2e",
   "metadata": {},
   "outputs": [
    {
     "name": "stdout",
     "output_type": "stream",
     "text": [
      "Enter the number of terms for the Fibonacci sequence: 10\n",
      "Fibonacci sequence up to 10 terms: [0, 1, 1, 2, 3, 5, 8, 13, 21, 34]\n"
     ]
    }
   ],
   "source": [
    "def fibonacci_sequence(num_terms):\n",
    "    if num_terms <= 0:\n",
    "        return []  # Return an empty list for non-positive input\n",
    "\n",
    "    fibonacci = [0, 1]  # Initialize the sequence with the first two terms\n",
    "\n",
    "    # Calculate subsequent terms and add them to the sequence\n",
    "    while len(fibonacci) < num_terms:\n",
    "        next_term = fibonacci[-1] + fibonacci[-2]\n",
    "        fibonacci.append(next_term)\n",
    "\n",
    "    return fibonacci\n",
    "\n",
    "# Test the function\n",
    "if __name__ == \"__main__\":\n",
    "    try:\n",
    "        num_terms = int(input(\"Enter the number of terms for the Fibonacci sequence: \"))\n",
    "        fibonacci_sequence_result = fibonacci_sequence(num_terms)\n",
    "        print(\"Fibonacci sequence up to\", num_terms, \"terms:\", fibonacci_sequence_result)\n",
    "    except ValueError:\n",
    "        print(\"Invalid input. Please enter a valid number of terms.\")\n"
   ]
  },
  {
   "cell_type": "markdown",
   "id": "089feb51",
   "metadata": {},
   "source": [
    "# 15. Write a program to find the median of a list of numbers.\n"
   ]
  },
  {
   "cell_type": "code",
   "execution_count": 16,
   "id": "12b6e5eb",
   "metadata": {},
   "outputs": [
    {
     "name": "stdout",
     "output_type": "stream",
     "text": [
      "The median of the list is: 5\n"
     ]
    }
   ],
   "source": [
    "def find_median(numbers):\n",
    "    # Sort the list in ascending order\n",
    "    sorted_numbers = sorted(numbers)\n",
    "\n",
    "    # Calculate the length of the sorted list\n",
    "    n = len(sorted_numbers)\n",
    "\n",
    "    # Check if the list has an odd or even number of elements\n",
    "    if n % 2 == 1:\n",
    "        # If odd, return the middle element\n",
    "        median = sorted_numbers[n // 2]\n",
    "    else:\n",
    "        # If even, return the average of the two middle elements\n",
    "        middle_left = sorted_numbers[n // 2 - 1]\n",
    "        middle_right = sorted_numbers[n // 2]\n",
    "        median = (middle_left + middle_right) / 2.0\n",
    "\n",
    "    return median\n",
    "\n",
    "if __name__ == \"__main__\":\n",
    "    # Example list of numbers\n",
    "    numbers = [5, 2, 9, 1, 7, 3, 8, 4, 6]\n",
    "\n",
    "    # Find the median of the list\n",
    "    median = find_median(numbers)\n",
    "\n",
    "    print(\"The median of the list is:\", median)\n"
   ]
  },
  {
   "cell_type": "markdown",
   "id": "8b84d58f",
   "metadata": {},
   "source": [
    "# 16. Implement a function to check if a given list is sorted in non-decreasing order.\n"
   ]
  },
  {
   "cell_type": "code",
   "execution_count": 17,
   "id": "2e51f882",
   "metadata": {},
   "outputs": [
    {
     "name": "stdout",
     "output_type": "stream",
     "text": [
      "Is list1 sorted in non-decreasing order? True\n",
      "Is list2 sorted in non-decreasing order? True\n",
      "Is list3 sorted in non-decreasing order? False\n"
     ]
    }
   ],
   "source": [
    "def is_sorted_non_decreasing(nums):\n",
    "    # Check if the list is empty or has only one element (already sorted)\n",
    "    if len(nums) <= 1:\n",
    "        return True\n",
    "\n",
    "    # Iterate through the list and compare adjacent elements\n",
    "    for i in range(len(nums) - 1):\n",
    "        if nums[i] > nums[i + 1]:\n",
    "            return False\n",
    "\n",
    "    return True\n",
    "\n",
    "if __name__ == \"__main__\":\n",
    "    # Example lists\n",
    "    list1 = [1, 2, 3, 4, 5]\n",
    "    list2 = [1, 2, 2, 3, 5]\n",
    "    list3 = [5, 4, 3, 2, 1]\n",
    "\n",
    "    print(\"Is list1 sorted in non-decreasing order?\", is_sorted_non_decreasing(list1))\n",
    "    print(\"Is list2 sorted in non-decreasing order?\", is_sorted_non_decreasing(list2))\n",
    "    print(\"Is list3 sorted in non-decreasing order?\", is_sorted_non_decreasing(list3))\n"
   ]
  },
  {
   "cell_type": "markdown",
   "id": "7f105a1e",
   "metadata": {},
   "source": [
    "# 17. Write a Python program to find the intersection of two lists.\n"
   ]
  },
  {
   "cell_type": "code",
   "execution_count": 18,
   "id": "70e3e0bd",
   "metadata": {},
   "outputs": [
    {
     "name": "stdout",
     "output_type": "stream",
     "text": [
      "Intersection of the two lists: [3, 4, 5]\n"
     ]
    }
   ],
   "source": [
    "def find_intersection(list1, list2):\n",
    "    # Convert lists to sets to get unique elements\n",
    "    set1 = set(list1)\n",
    "    set2 = set(list2)\n",
    "\n",
    "    # Find the intersection of the two sets\n",
    "    intersection_set = set1.intersection(set2)\n",
    "\n",
    "    # Convert the intersection set back to a list\n",
    "    intersection_list = list(intersection_set)\n",
    "\n",
    "    return intersection_list\n",
    "\n",
    "if __name__ == \"__main__\":\n",
    "    # Example lists\n",
    "    list1 = [1, 2, 3, 4, 5]\n",
    "    list2 = [3, 4, 5, 6, 7]\n",
    "\n",
    "    # Find the intersection of the two lists\n",
    "    intersection_result = find_intersection(list1, list2)\n",
    "\n",
    "    print(\"Intersection of the two lists:\", intersection_result)\n"
   ]
  },
  {
   "cell_type": "markdown",
   "id": "2e1e5e53",
   "metadata": {},
   "source": [
    "# 18. Implement a function to find the maximum subarray sum in a given list.\n"
   ]
  },
  {
   "cell_type": "code",
   "execution_count": 19,
   "id": "acebf775",
   "metadata": {},
   "outputs": [
    {
     "name": "stdout",
     "output_type": "stream",
     "text": [
      "Maximum subarray sum: 6\n"
     ]
    }
   ],
   "source": [
    "def max_subarray_sum(nums):\n",
    "    if not nums:\n",
    "        return 0\n",
    "\n",
    "    max_sum = current_sum = nums[0]\n",
    "\n",
    "    for num in nums[1:]:\n",
    "        current_sum = max(num, current_sum + num)\n",
    "        max_sum = max(max_sum, current_sum)\n",
    "\n",
    "    return max_sum\n",
    "\n",
    "if __name__ == \"__main__\":\n",
    "    # Example list\n",
    "    nums = [-2, 1, -3, 4, -1, 2, 1, -5, 4]\n",
    "\n",
    "    # Find the maximum subarray sum\n",
    "    result = max_subarray_sum(nums)\n",
    "\n",
    "    print(\"Maximum subarray sum:\", result)\n"
   ]
  },
  {
   "cell_type": "markdown",
   "id": "4f65b345",
   "metadata": {},
   "source": [
    "# 19. Write a program to remove all vowels from a given string.\n"
   ]
  },
  {
   "cell_type": "code",
   "execution_count": 20,
   "id": "db97e36a",
   "metadata": {},
   "outputs": [
    {
     "name": "stdout",
     "output_type": "stream",
     "text": [
      "Enter a string: My name is Rahul Amberia\n",
      "String after removing vowels: My nm s Rhl mbr\n"
     ]
    }
   ],
   "source": [
    "def remove_vowels(input_string):\n",
    "    vowels = \"aeiouAEIOU\"\n",
    "    result_string = \"\"\n",
    "\n",
    "    for char in input_string:\n",
    "        if char not in vowels:\n",
    "            result_string += char\n",
    "\n",
    "    return result_string\n",
    "\n",
    "if __name__ == \"__main__\":\n",
    "    input_string = input(\"Enter a string: \")\n",
    "    result = remove_vowels(input_string)\n",
    "    print(\"String after removing vowels:\", result)\n"
   ]
  },
  {
   "cell_type": "markdown",
   "id": "3a30f447",
   "metadata": {},
   "source": [
    "# 20. Implement a function to reverse the order of words in a given sentence.\n"
   ]
  },
  {
   "cell_type": "code",
   "execution_count": 21,
   "id": "36d27490",
   "metadata": {},
   "outputs": [
    {
     "name": "stdout",
     "output_type": "stream",
     "text": [
      "Enter a sentence: This is sample sentence\n",
      "Reversed sentence: sentence sample is This\n"
     ]
    }
   ],
   "source": [
    "def reverse_words(sentence):\n",
    "    # Split the sentence into words using whitespace as the delimiter\n",
    "    words = sentence.split()\n",
    "\n",
    "    # Reverse the list of words\n",
    "    reversed_words = words[::-1]\n",
    "\n",
    "    # Join the reversed words back to form the reversed sentence\n",
    "    reversed_sentence = ' '.join(reversed_words)\n",
    "\n",
    "    return reversed_sentence\n",
    "\n",
    "if __name__ == \"__main__\":\n",
    "    input_sentence = input(\"Enter a sentence: \")\n",
    "    reversed_result = reverse_words(input_sentence)\n",
    "    print(\"Reversed sentence:\", reversed_result)\n"
   ]
  },
  {
   "cell_type": "markdown",
   "id": "a4b4e82c",
   "metadata": {},
   "source": [
    "# 21. Write a Python program to check if two strings are anagrams of each other.\n"
   ]
  },
  {
   "cell_type": "code",
   "execution_count": 22,
   "id": "d045354e",
   "metadata": {},
   "outputs": [
    {
     "name": "stdout",
     "output_type": "stream",
     "text": [
      "Enter the first string: listen\n",
      "Enter the second string: silent\n",
      "The two strings are anagrams.\n"
     ]
    }
   ],
   "source": [
    "def are_anagrams(str1, str2):\n",
    "    # Remove whitespace and convert both strings to lowercase to make the comparison case-insensitive\n",
    "    str1 = str1.replace(\" \", \"\").lower()\n",
    "    str2 = str2.replace(\" \", \"\").lower()\n",
    "\n",
    "    # Check if the two strings have the same length\n",
    "    if len(str1) != len(str2):\n",
    "        return False\n",
    "\n",
    "    # Convert strings to lists and sort them\n",
    "    sorted_str1 = sorted(list(str1))\n",
    "    sorted_str2 = sorted(list(str2))\n",
    "\n",
    "    # Compare the sorted lists\n",
    "    return sorted_str1 == sorted_str2\n",
    "\n",
    "if __name__ == \"__main__\":\n",
    "    input_str1 = input(\"Enter the first string: \")\n",
    "    input_str2 = input(\"Enter the second string: \")\n",
    "\n",
    "    if are_anagrams(input_str1, input_str2):\n",
    "        print(\"The two strings are anagrams.\")\n",
    "    else:\n",
    "        print(\"The two strings are not anagrams.\")\n"
   ]
  },
  {
   "cell_type": "markdown",
   "id": "f8d33e1a",
   "metadata": {},
   "source": [
    "# 22. Implement a function to find the first non-repeating character in a string.\n"
   ]
  },
  {
   "cell_type": "code",
   "execution_count": 23,
   "id": "92f41c07",
   "metadata": {},
   "outputs": [
    {
     "name": "stdout",
     "output_type": "stream",
     "text": [
      "Enter a string: Amberia\n",
      "The first non-repeating character is: A\n"
     ]
    }
   ],
   "source": [
    "def first_non_repeating_char(input_string):\n",
    "    char_count = {}\n",
    "\n",
    "    # Count occurrences of each character in the string\n",
    "    for char in input_string:\n",
    "        char_count[char] = char_count.get(char, 0) + 1\n",
    "\n",
    "    # Find the first non-repeating character\n",
    "    for char in input_string:\n",
    "        if char_count[char] == 1:\n",
    "            return char\n",
    "\n",
    "    return None  # If no non-repeating character is found\n",
    "\n",
    "if __name__ == \"__main__\":\n",
    "    input_string = input(\"Enter a string: \")\n",
    "    result = first_non_repeating_char(input_string)\n",
    "\n",
    "    if result is not None:\n",
    "        print(\"The first non-repeating character is:\", result)\n",
    "    else:\n",
    "        print(\"No non-repeating character found.\")\n"
   ]
  },
  {
   "cell_type": "markdown",
   "id": "9f02f493",
   "metadata": {},
   "source": [
    "# 23. Write a program to find the prime factors of a given number.\n"
   ]
  },
  {
   "cell_type": "code",
   "execution_count": 24,
   "id": "2028d091",
   "metadata": {},
   "outputs": [
    {
     "name": "stdout",
     "output_type": "stream",
     "text": [
      "Enter a number: 60\n",
      "Prime factors of 60 are: [2, 2, 3, 5]\n"
     ]
    }
   ],
   "source": [
    "def is_prime(num):\n",
    "    # Function to check if a number is prime\n",
    "    if num < 2:\n",
    "        return False\n",
    "\n",
    "    for i in range(2, int(num**0.5) + 1):\n",
    "        if num % i == 0:\n",
    "            return False\n",
    "\n",
    "    return True\n",
    "\n",
    "def find_prime_factors(number):\n",
    "    prime_factors = []\n",
    "\n",
    "    # Find and add prime factors\n",
    "    for i in range(2, number + 1):\n",
    "        if is_prime(i) and number % i == 0:\n",
    "            while number % i == 0:\n",
    "                prime_factors.append(i)\n",
    "                number //= i\n",
    "\n",
    "    return prime_factors\n",
    "\n",
    "if __name__ == \"__main__\":\n",
    "    input_number = int(input(\"Enter a number: \"))\n",
    "    prime_factors = find_prime_factors(input_number)\n",
    "\n",
    "    print(\"Prime factors of\", input_number, \"are:\", prime_factors)\n"
   ]
  },
  {
   "cell_type": "markdown",
   "id": "10e42c98",
   "metadata": {},
   "source": [
    "# 24. Implement a function to check if a given number is a power of two."
   ]
  },
  {
   "cell_type": "code",
   "execution_count": 26,
   "id": "c427a628",
   "metadata": {},
   "outputs": [
    {
     "name": "stdout",
     "output_type": "stream",
     "text": [
      "Enter a number: 32\n",
      "32 is a power of two.\n"
     ]
    }
   ],
   "source": [
    "def is_power_of_two(num):\n",
    "    # A number is a power of two if it has only one bit set to 1\n",
    "    # So, bitwise AND of num and (num - 1) should be 0 for power of two numbers\n",
    "    return num > 0 and (num & (num - 1)) == 0\n",
    "\n",
    "if __name__ == \"__main__\":\n",
    "    input_number = int(input(\"Enter a number: \"))\n",
    "    if is_power_of_two(input_number):\n",
    "        print(input_number, \"is a power of two.\")\n",
    "    else:\n",
    "        print(input_number, \"is not a power of two.\")\n"
   ]
  },
  {
   "cell_type": "markdown",
   "id": "19def0da",
   "metadata": {},
   "source": [
    "# 25. Write a Python program to merge two sorted lists into a single sorted list.\n"
   ]
  },
  {
   "cell_type": "code",
   "execution_count": 27,
   "id": "fdb3a9fb",
   "metadata": {},
   "outputs": [
    {
     "name": "stdout",
     "output_type": "stream",
     "text": [
      "Merged sorted list: [1, 2, 3, 4, 5, 6, 7, 8]\n"
     ]
    }
   ],
   "source": [
    "def merge_sorted_lists(list1, list2):\n",
    "    merged_list = []\n",
    "    i, j = 0, 0\n",
    "\n",
    "    # Merge the two lists\n",
    "    while i < len(list1) and j < len(list2):\n",
    "        if list1[i] < list2[j]:\n",
    "            merged_list.append(list1[i])\n",
    "            i += 1\n",
    "        else:\n",
    "            merged_list.append(list2[j])\n",
    "            j += 1\n",
    "\n",
    "    # Append any remaining elements from list1 and list2\n",
    "    merged_list.extend(list1[i:])\n",
    "    merged_list.extend(list2[j:])\n",
    "\n",
    "    return merged_list\n",
    "\n",
    "if __name__ == \"__main__\":\n",
    "    # Example sorted lists\n",
    "    list1 = [1, 3, 5, 7]\n",
    "    list2 = [2, 4, 6, 8]\n",
    "\n",
    "    # Merge the two lists\n",
    "    merged_result = merge_sorted_lists(list1, list2)\n",
    "\n",
    "    print(\"Merged sorted list:\", merged_result)\n"
   ]
  },
  {
   "cell_type": "markdown",
   "id": "f5553f10",
   "metadata": {},
   "source": [
    "# 26. Implement a function to find the mode of a list of numbers.\n"
   ]
  },
  {
   "cell_type": "code",
   "execution_count": 28,
   "id": "ceed140a",
   "metadata": {},
   "outputs": [
    {
     "name": "stdout",
     "output_type": "stream",
     "text": [
      "The mode of the list is: 5\n"
     ]
    }
   ],
   "source": [
    "def find_mode(numbers):\n",
    "    num_count = {}\n",
    "\n",
    "    # Count occurrences of each number in the list\n",
    "    for num in numbers:\n",
    "        num_count[num] = num_count.get(num, 0) + 1\n",
    "\n",
    "    # Find the highest count (mode(s))\n",
    "    max_count = max(num_count.values())\n",
    "    modes = [num for num, count in num_count.items() if count == max_count]\n",
    "\n",
    "    return modes\n",
    "\n",
    "if __name__ == \"__main__\":\n",
    "    # Example list of numbers\n",
    "    numbers = [1, 2, 3, 2, 4, 5, 5, 5, 6]\n",
    "\n",
    "    # Find the mode(s) of the list\n",
    "    modes_result = find_mode(numbers)\n",
    "\n",
    "    if len(modes_result) == 1:\n",
    "        print(\"The mode of the list is:\", modes_result[0])\n",
    "    else:\n",
    "        print(\"The list is multimodal. Modes:\", modes_result)\n"
   ]
  },
  {
   "cell_type": "markdown",
   "id": "44951773",
   "metadata": {},
   "source": [
    "# 27. Write a program to find the greatest common divisor (GCD) of two numbers.\n"
   ]
  },
  {
   "cell_type": "code",
   "execution_count": 29,
   "id": "017796da",
   "metadata": {},
   "outputs": [
    {
     "name": "stdout",
     "output_type": "stream",
     "text": [
      "Enter the first number: 45\n",
      "Enter the second number: 65\n",
      "The GCD of 45 and 65 is: 5\n"
     ]
    }
   ],
   "source": [
    "def find_gcd(a, b):\n",
    "    while b != 0:\n",
    "        a, b = b, a % b\n",
    "    return a\n",
    "\n",
    "if __name__ == \"__main__\":\n",
    "    num1 = int(input(\"Enter the first number: \"))\n",
    "    num2 = int(input(\"Enter the second number: \"))\n",
    "\n",
    "    gcd = find_gcd(num1, num2)\n",
    "\n",
    "    print(\"The GCD of\", num1, \"and\", num2, \"is:\", gcd)\n"
   ]
  },
  {
   "cell_type": "markdown",
   "id": "cb466292",
   "metadata": {},
   "source": [
    "# 28. Implement a function to calculate the square root of a given number.\n"
   ]
  },
  {
   "cell_type": "code",
   "execution_count": 30,
   "id": "a650baae",
   "metadata": {},
   "outputs": [
    {
     "name": "stdout",
     "output_type": "stream",
     "text": [
      "Enter a number: 34\n",
      "Square root of 34.0 is: 5.830951897587282\n"
     ]
    }
   ],
   "source": [
    "def square_root(number, epsilon=1e-7):\n",
    "    # Initial guess for the square root\n",
    "    guess = number\n",
    "\n",
    "    while True:\n",
    "        # Calculate the next approximation using the Newton-Raphson formula\n",
    "        next_guess = 0.5 * (guess + number / guess)\n",
    "\n",
    "        # Check if the difference between consecutive approximations is within the epsilon tolerance\n",
    "        if abs(next_guess - guess) < epsilon:\n",
    "            break\n",
    "\n",
    "        guess = next_guess\n",
    "\n",
    "    return guess\n",
    "\n",
    "if __name__ == \"__main__\":\n",
    "    input_number = float(input(\"Enter a number: \"))\n",
    "    square_root_result = square_root(input_number)\n",
    "    print(\"Square root of\", input_number, \"is:\", square_root_result)\n"
   ]
  },
  {
   "cell_type": "markdown",
   "id": "bb800680",
   "metadata": {},
   "source": [
    "# 29. Write a Python program to check if a given string is a valid palindrome ignoring non-alphanumeric characters.\n"
   ]
  },
  {
   "cell_type": "code",
   "execution_count": 31,
   "id": "5d50791f",
   "metadata": {},
   "outputs": [
    {
     "name": "stdout",
     "output_type": "stream",
     "text": [
      "Enter a string: I am going to learn python soon\n",
      "The string is not a valid palindrome.\n"
     ]
    }
   ],
   "source": [
    "import re\n",
    "\n",
    "def is_valid_palindrome(s):\n",
    "    # Remove non-alphanumeric characters from the string\n",
    "    alphanumeric_string = re.sub(r'\\W+', '', s)\n",
    "\n",
    "    # Convert the string to lowercase\n",
    "    alphanumeric_string = alphanumeric_string.lower()\n",
    "\n",
    "    # Check if the alphanumeric string is a palindrome\n",
    "    return alphanumeric_string == alphanumeric_string[::-1]\n",
    "\n",
    "if __name__ == \"__main__\":\n",
    "    input_string = input(\"Enter a string: \")\n",
    "    if is_valid_palindrome(input_string):\n",
    "        print(\"The string is a valid palindrome.\")\n",
    "    else:\n",
    "        print(\"The string is not a valid palindrome.\")\n"
   ]
  },
  {
   "cell_type": "markdown",
   "id": "4ba76ede",
   "metadata": {},
   "source": [
    "# 30. Implement a function to find the minimum element in a rotated sorted list.\n"
   ]
  },
  {
   "cell_type": "code",
   "execution_count": 32,
   "id": "a27d7e79",
   "metadata": {},
   "outputs": [
    {
     "name": "stdout",
     "output_type": "stream",
     "text": [
      "Minimum element in the rotated sorted list: 0\n"
     ]
    }
   ],
   "source": [
    "def find_minimum_rotated_sorted(nums):\n",
    "    left, right = 0, len(nums) - 1\n",
    "\n",
    "    while left < right:\n",
    "        mid = (left + right) // 2\n",
    "\n",
    "        if nums[mid] > nums[right]:\n",
    "            # Minimum element is in the right half\n",
    "            left = mid + 1\n",
    "        else:\n",
    "            # Minimum element is in the left half\n",
    "            right = mid\n",
    "\n",
    "    return nums[left]\n",
    "\n",
    "if __name__ == \"__main__\":\n",
    "    # Example rotated sorted list\n",
    "    rotated_sorted_list = [4, 5, 6, 7, 0, 1, 2]\n",
    "\n",
    "    # Find the minimum element\n",
    "    min_element = find_minimum_rotated_sorted(rotated_sorted_list)\n",
    "\n",
    "    print(\"Minimum element in the rotated sorted list:\", min_element)\n"
   ]
  },
  {
   "cell_type": "markdown",
   "id": "aa55001d",
   "metadata": {},
   "source": [
    "# 31. Write a program to find the sum of all even numbers in a list.\n"
   ]
  },
  {
   "cell_type": "code",
   "execution_count": 33,
   "id": "3910e89d",
   "metadata": {},
   "outputs": [
    {
     "name": "stdout",
     "output_type": "stream",
     "text": [
      "Sum of even numbers in the list: 30\n"
     ]
    }
   ],
   "source": [
    "def sum_of_even_numbers(numbers):\n",
    "    even_sum = 0\n",
    "\n",
    "    for num in numbers:\n",
    "        if num % 2 == 0:\n",
    "            even_sum += num\n",
    "\n",
    "    return even_sum\n",
    "\n",
    "if __name__ == \"__main__\":\n",
    "    # Example list of numbers\n",
    "    numbers_list = [1, 2, 3, 4, 5, 6, 7, 8, 9, 10]\n",
    "\n",
    "    # Find the sum of even numbers in the list\n",
    "    result_sum = sum_of_even_numbers(numbers_list)\n",
    "\n",
    "    print(\"Sum of even numbers in the list:\", result_sum)\n"
   ]
  },
  {
   "cell_type": "markdown",
   "id": "c2a23cbd",
   "metadata": {},
   "source": [
    "# 32. Implement a function to calculate the power of a number using recursion.\n",
    "\n"
   ]
  },
  {
   "cell_type": "code",
   "execution_count": 34,
   "id": "fddda131",
   "metadata": {},
   "outputs": [
    {
     "name": "stdout",
     "output_type": "stream",
     "text": [
      "Enter the base number: 2\n",
      "Enter the exponent: 4\n",
      "2.0 raised to the power of 4 is: 16.0\n"
     ]
    }
   ],
   "source": [
    "def power(base, exponent):\n",
    "    if exponent == 0:\n",
    "        return 1\n",
    "    else:\n",
    "        return base * power(base, exponent - 1)\n",
    "\n",
    "if __name__ == \"__main__\":\n",
    "    base_num = float(input(\"Enter the base number: \"))\n",
    "    exponent_num = int(input(\"Enter the exponent: \"))\n",
    "\n",
    "    result = power(base_num, exponent_num)\n",
    "\n",
    "    print(f\"{base_num} raised to the power of {exponent_num} is: {result}\")\n"
   ]
  },
  {
   "cell_type": "markdown",
   "id": "f2bc9518",
   "metadata": {},
   "source": [
    "# 33. Write a Python program to remove duplicates from a list while preserving the order.\n"
   ]
  },
  {
   "cell_type": "code",
   "execution_count": 35,
   "id": "b4fda19b",
   "metadata": {},
   "outputs": [
    {
     "name": "stdout",
     "output_type": "stream",
     "text": [
      "List with duplicates removed: [1, 2, 3, 4, 5, 6]\n"
     ]
    }
   ],
   "source": [
    "def remove_duplicates_preserve_order(input_list):\n",
    "    unique_elements = set()\n",
    "    result_list = []\n",
    "\n",
    "    for item in input_list:\n",
    "        if item not in unique_elements:\n",
    "            unique_elements.add(item)\n",
    "            result_list.append(item)\n",
    "\n",
    "    return result_list\n",
    "\n",
    "if __name__ == \"__main__\":\n",
    "    # Example list with duplicates\n",
    "    input_list = [1, 2, 2, 3, 4, 4, 5, 6, 6]\n",
    "\n",
    "    # Remove duplicates while preserving order\n",
    "    result = remove_duplicates_preserve_order(input_list)\n",
    "\n",
    "    print(\"List with duplicates removed:\", result)\n"
   ]
  },
  {
   "cell_type": "markdown",
   "id": "bace6f62",
   "metadata": {},
   "source": [
    "# 34. Implement a function to find the longest common prefix among a list of strings.\n"
   ]
  },
  {
   "cell_type": "code",
   "execution_count": 36,
   "id": "758587a8",
   "metadata": {},
   "outputs": [
    {
     "name": "stdout",
     "output_type": "stream",
     "text": [
      "Longest common prefix: ap\n"
     ]
    }
   ],
   "source": [
    "def longest_common_prefix(strings):\n",
    "    if not strings:\n",
    "        return \"\"\n",
    "\n",
    "    common_prefix = strings[0]\n",
    "\n",
    "    for string in strings[1:]:\n",
    "        i = 0\n",
    "        while i < len(common_prefix) and i < len(string) and common_prefix[i] == string[i]:\n",
    "            i += 1\n",
    "        common_prefix = common_prefix[:i]\n",
    "\n",
    "    return common_prefix\n",
    "\n",
    "if __name__ == \"__main__\":\n",
    "    # Example list of strings\n",
    "    input_strings = [\"apple\", \"apricot\", \"appetizer\", \"applause\"]\n",
    "\n",
    "    # Find the longest common prefix\n",
    "    result = longest_common_prefix(input_strings)\n",
    "\n",
    "    print(\"Longest common prefix:\", result)\n"
   ]
  },
  {
   "cell_type": "markdown",
   "id": "a255b52b",
   "metadata": {},
   "source": [
    "# 35. Write a program to check if a given number is a perfect square.\n"
   ]
  },
  {
   "cell_type": "code",
   "execution_count": 37,
   "id": "b6bf9786",
   "metadata": {},
   "outputs": [
    {
     "name": "stdout",
     "output_type": "stream",
     "text": [
      "Enter a number: 45\n",
      "45 is not a perfect square.\n"
     ]
    }
   ],
   "source": [
    "def is_perfect_square(num):\n",
    "    # Check if the square root of the number is an integer\n",
    "    sqrt_num = int(num ** 0.5)\n",
    "    return sqrt_num * sqrt_num == num\n",
    "\n",
    "if __name__ == \"__main__\":\n",
    "    input_number = int(input(\"Enter a number: \"))\n",
    "\n",
    "    if is_perfect_square(input_number):\n",
    "        print(input_number, \"is a perfect square.\")\n",
    "    else:\n",
    "        print(input_number, \"is not a perfect square.\")\n"
   ]
  },
  {
   "cell_type": "markdown",
   "id": "b055ba97",
   "metadata": {},
   "source": [
    "# 36. Implement a function to calculate the product of all elements in a list.\n"
   ]
  },
  {
   "cell_type": "code",
   "execution_count": 38,
   "id": "596880c7",
   "metadata": {
    "scrolled": true
   },
   "outputs": [
    {
     "name": "stdout",
     "output_type": "stream",
     "text": [
      "Product of elements in the list: 120\n"
     ]
    }
   ],
   "source": [
    "def product_of_elements(numbers):\n",
    "    result = 1\n",
    "\n",
    "    for num in numbers:\n",
    "        result *= num\n",
    "\n",
    "    return result\n",
    "\n",
    "if __name__ == \"__main__\":\n",
    "    # Example list of numbers\n",
    "    numbers_list = [1, 2, 3, 4, 5]\n",
    "\n",
    "    # Calculate the product of elements in the list\n",
    "    result_product = product_of_elements(numbers_list)\n",
    "\n",
    "    print(\"Product of elements in the list:\", result_product)\n"
   ]
  },
  {
   "cell_type": "markdown",
   "id": "214db1c1",
   "metadata": {},
   "source": [
    "# 37. Write a Python program to reverse the order of words in a sentence while preserving the word order.\n"
   ]
  },
  {
   "cell_type": "code",
   "execution_count": 39,
   "id": "573e73f9",
   "metadata": {},
   "outputs": [
    {
     "name": "stdout",
     "output_type": "stream",
     "text": [
      "Enter a sentence: My name is Rahul Amberia and i am learning data sciecnce here\n",
      "Reversed sentence with preserved word order: here sciecnce data learning am i and Amberia Rahul is name My\n"
     ]
    }
   ],
   "source": [
    "def reverse_sentence(sentence):\n",
    "    # Split the sentence into words using whitespace as the delimiter\n",
    "    words = sentence.split()\n",
    "\n",
    "    # Reverse the list of words\n",
    "    reversed_words = words[::-1]\n",
    "\n",
    "    # Join the reversed words back to form the reversed sentence\n",
    "    reversed_sentence = ' '.join(reversed_words)\n",
    "\n",
    "    return reversed_sentence\n",
    "\n",
    "if __name__ == \"__main__\":\n",
    "    input_sentence = input(\"Enter a sentence: \")\n",
    "    reversed_result = reverse_sentence(input_sentence)\n",
    "    print(\"Reversed sentence with preserved word order:\", reversed_result)\n"
   ]
  },
  {
   "cell_type": "markdown",
   "id": "41bb99d1",
   "metadata": {},
   "source": [
    "# 38. Implement a function to find the missing number in a given list of consecutive numbers.\n"
   ]
  },
  {
   "cell_type": "code",
   "execution_count": 40,
   "id": "3b2381d4",
   "metadata": {},
   "outputs": [
    {
     "name": "stdout",
     "output_type": "stream",
     "text": [
      "Missing number is: 3\n"
     ]
    }
   ],
   "source": [
    "def find_missing_number(consecutive_list):\n",
    "    n = len(consecutive_list) + 1  # Total number of elements in the original sequence\n",
    "    total_sum = (n * (n + 1)) // 2  # Sum of all numbers in the original sequence\n",
    "    missing_number = total_sum - sum(consecutive_list)\n",
    "    return missing_number\n",
    "\n",
    "if __name__ == \"__main__\":\n",
    "    # Example list of consecutive numbers with a missing number\n",
    "    input_list = [1, 2, 4, 5, 6]\n",
    "\n",
    "    # Find the missing number in the list\n",
    "    missing_number = find_missing_number(input_list)\n",
    "\n",
    "    print(\"Missing number is:\", missing_number)\n"
   ]
  },
  {
   "cell_type": "markdown",
   "id": "dcc47dcc",
   "metadata": {},
   "source": [
    "# 39. Write a program to find the sum of digits of a given number.\n"
   ]
  },
  {
   "cell_type": "code",
   "execution_count": 41,
   "id": "9a10c0d2",
   "metadata": {},
   "outputs": [
    {
     "name": "stdout",
     "output_type": "stream",
     "text": [
      "Enter a number: 56748\n",
      "Sum of digits of 56748 is: 30\n"
     ]
    }
   ],
   "source": [
    "def sum_of_digits(number):\n",
    "    total_sum = 0\n",
    "    num = abs(number)  # Handle negative numbers\n",
    "\n",
    "    while num != 0:\n",
    "        digit = num % 10  # Get the last digit\n",
    "        total_sum += digit\n",
    "        num //= 10  # Remove the last digit\n",
    "\n",
    "    return total_sum\n",
    "\n",
    "if __name__ == \"__main__\":\n",
    "    input_number = int(input(\"Enter a number: \"))\n",
    "    result_sum = sum_of_digits(input_number)\n",
    "\n",
    "    print(\"Sum of digits of\", input_number, \"is:\", result_sum)\n"
   ]
  },
  {
   "cell_type": "markdown",
   "id": "48ff717b",
   "metadata": {},
   "source": [
    "# 40. Implement a function to check if a given string is a valid palindrome considering case sensitivity.\n"
   ]
  },
  {
   "cell_type": "code",
   "execution_count": 42,
   "id": "55abae40",
   "metadata": {},
   "outputs": [
    {
     "name": "stdout",
     "output_type": "stream",
     "text": [
      "Enter a string: a man , a plane, a canal\n",
      "The string is not a valid palindrome.\n"
     ]
    }
   ],
   "source": [
    "def is_valid_palindrome(s):\n",
    "    # Remove non-alphanumeric characters from the string and convert to lowercase\n",
    "    alphanumeric_string = ''.join(char.lower() for char in s if char.isalnum())\n",
    "\n",
    "    # Compare the alphanumeric string with its reverse\n",
    "    return alphanumeric_string == alphanumeric_string[::-1]\n",
    "\n",
    "if __name__ == \"__main__\":\n",
    "    input_string = input(\"Enter a string: \")\n",
    "    if is_valid_palindrome(input_string):\n",
    "        print(\"The string is a valid palindrome.\")\n",
    "    else:\n",
    "        print(\"The string is not a valid palindrome.\")\n"
   ]
  },
  {
   "cell_type": "markdown",
   "id": "4ee97058",
   "metadata": {},
   "source": [
    "# 41. Write a Python program to find the smallest missing positive integer in a list.\n"
   ]
  },
  {
   "cell_type": "code",
   "execution_count": 43,
   "id": "99aff26a",
   "metadata": {},
   "outputs": [
    {
     "name": "stdout",
     "output_type": "stream",
     "text": [
      "The smallest missing positive integer is: 2\n"
     ]
    }
   ],
   "source": [
    "def swap(nums, i, j):\n",
    "    nums[i], nums[j] = nums[j], nums[i]\n",
    "\n",
    "def find_smallest_missing_positive(nums):\n",
    "    n = len(nums)\n",
    "    i = 0\n",
    "\n",
    "    while i < n:\n",
    "        # If the current number is within the range [1, n] and not in its correct position,\n",
    "        # move it to the correct index if possible\n",
    "        if 1 <= nums[i] <= n and nums[i] != nums[nums[i] - 1]:\n",
    "            swap(nums, i, nums[i] - 1)\n",
    "        else:\n",
    "            i += 1\n",
    "\n",
    "    # Find the first index that does not have the correct value (smallest missing positive integer)\n",
    "    for i in range(n):\n",
    "        if nums[i] != i + 1:\n",
    "            return i + 1\n",
    "\n",
    "    # If all positive integers from 1 to n are present, then the smallest missing positive integer is n + 1\n",
    "    return n + 1\n",
    "\n",
    "if __name__ == \"__main__\":\n",
    "    # Example list\n",
    "    input_list = [3, 4, -1, 1]\n",
    "\n",
    "    # Find the smallest missing positive integer\n",
    "    result = find_smallest_missing_positive(input_list)\n",
    "\n",
    "    print(\"The smallest missing positive integer is:\", result)\n"
   ]
  },
  {
   "cell_type": "markdown",
   "id": "a1fa03e9",
   "metadata": {},
   "source": [
    "# 42. Implement a function to find the longest palindrome substring in a given string.\n"
   ]
  },
  {
   "cell_type": "code",
   "execution_count": 44,
   "id": "65bfb4ab",
   "metadata": {},
   "outputs": [
    {
     "name": "stdout",
     "output_type": "stream",
     "text": [
      "Enter a string: abababdbabsbabbddbdbaba\n",
      "Longest palindrome substring: babdbab\n"
     ]
    }
   ],
   "source": [
    "def longest_palindrome_substring(s):\n",
    "    n = len(s)\n",
    "\n",
    "    # Initialize a table to store whether substrings are palindromes or not\n",
    "    is_palindrome = [[False for _ in range(n)] for _ in range(n)]\n",
    "\n",
    "    # All substrings of length 1 are palindromes\n",
    "    for i in range(n):\n",
    "        is_palindrome[i][i] = True\n",
    "\n",
    "    start = 0  # Start index of the longest palindrome substring\n",
    "    max_length = 1  # Length of the longest palindrome substring\n",
    "\n",
    "    # Check for palindromes of length 2\n",
    "    for i in range(n - 1):\n",
    "        if s[i] == s[i + 1]:\n",
    "            is_palindrome[i][i + 1] = True\n",
    "            start = i\n",
    "            max_length = 2\n",
    "\n",
    "    # Check for palindromes of length 3 or more\n",
    "    for length in range(3, n + 1):\n",
    "        for i in range(n - length + 1):\n",
    "            j = i + length - 1\n",
    "\n",
    "            if s[i] == s[j] and is_palindrome[i + 1][j - 1]:\n",
    "                is_palindrome[i][j] = True\n",
    "\n",
    "                if length > max_length:\n",
    "                    start = i\n",
    "                    max_length = length\n",
    "\n",
    "    return s[start : start + max_length]\n",
    "\n",
    "if __name__ == \"__main__\":\n",
    "    input_string = input(\"Enter a string: \")\n",
    "    result = longest_palindrome_substring(input_string)\n",
    "    print(\"Longest palindrome substring:\", result)\n"
   ]
  },
  {
   "cell_type": "markdown",
   "id": "d7b61796",
   "metadata": {},
   "source": [
    "# 43. Write a program to find the number of occurrences of a given element in a list.\n"
   ]
  },
  {
   "cell_type": "code",
   "execution_count": 45,
   "id": "9baa0f2c",
   "metadata": {},
   "outputs": [
    {
     "name": "stdout",
     "output_type": "stream",
     "text": [
      "The element 2 occurs 4 times in the list.\n"
     ]
    }
   ],
   "source": [
    "def count_occurrences(numbers, target):\n",
    "    count = 0\n",
    "\n",
    "    for num in numbers:\n",
    "        if num == target:\n",
    "            count += 1\n",
    "\n",
    "    return count\n",
    "\n",
    "if __name__ == \"__main__\":\n",
    "    # Example list of numbers\n",
    "    numbers_list = [1, 2, 2, 3, 2, 4, 5, 2]\n",
    "\n",
    "    # Element to find occurrences of\n",
    "    target_element = 2\n",
    "\n",
    "    # Count occurrences of the element in the list\n",
    "    result_count = count_occurrences(numbers_list, target_element)\n",
    "\n",
    "    print(f\"The element {target_element} occurs {result_count} times in the list.\")\n"
   ]
  },
  {
   "cell_type": "markdown",
   "id": "02513d9f",
   "metadata": {},
   "source": [
    "# 44. Implement a function to check if a given number is a perfect number.\n"
   ]
  },
  {
   "cell_type": "code",
   "execution_count": 46,
   "id": "e51d9f7e",
   "metadata": {},
   "outputs": [
    {
     "name": "stdout",
     "output_type": "stream",
     "text": [
      "Enter a number: 345\n",
      "345 is not a perfect number.\n"
     ]
    }
   ],
   "source": [
    "def find_divisors(number):\n",
    "    divisors = []\n",
    "    for i in range(1, number):\n",
    "        if number % i == 0:\n",
    "            divisors.append(i)\n",
    "    return divisors\n",
    "\n",
    "def is_perfect_number(number):\n",
    "    divisors = find_divisors(number)\n",
    "    return sum(divisors) == number\n",
    "\n",
    "if __name__ == \"__main__\":\n",
    "    input_number = int(input(\"Enter a number: \"))\n",
    "    if is_perfect_number(input_number):\n",
    "        print(input_number, \"is a perfect number.\")\n",
    "    else:\n",
    "        print(input_number, \"is not a perfect number.\")\n"
   ]
  },
  {
   "cell_type": "markdown",
   "id": "af27a242",
   "metadata": {},
   "source": [
    "# 45. Write a Python program to remove all duplicates from a string.\n"
   ]
  },
  {
   "cell_type": "code",
   "execution_count": 48,
   "id": "dc03a292",
   "metadata": {},
   "outputs": [
    {
     "name": "stdout",
     "output_type": "stream",
     "text": [
      "Enter a string: Programming\n",
      "String after removing duplicates: Progamin\n"
     ]
    }
   ],
   "source": [
    "def remove_duplicates_from_string(input_string):\n",
    "    unique_chars = set()\n",
    "    result_string = \"\"\n",
    "\n",
    "    for char in input_string:\n",
    "        if char not in unique_chars:\n",
    "            unique_chars.add(char)\n",
    "            result_string += char\n",
    "\n",
    "    return result_string\n",
    "\n",
    "if __name__ == \"__main__\":\n",
    "    input_string = input(\"Enter a string: \")\n",
    "    result = remove_duplicates_from_string(input_string)\n",
    "    print(\"String after removing duplicates:\", result)\n"
   ]
  },
  {
   "cell_type": "markdown",
   "id": "ebde5cc8",
   "metadata": {},
   "source": [
    "# 46. Implement a function to find the first missing positive\n"
   ]
  },
  {
   "cell_type": "code",
   "execution_count": 49,
   "id": "5df668a0",
   "metadata": {},
   "outputs": [
    {
     "name": "stdout",
     "output_type": "stream",
     "text": [
      "The first missing positive integer is: 2\n"
     ]
    }
   ],
   "source": [
    "def swap(nums, i, j):\n",
    "    nums[i], nums[j] = nums[j], nums[i]\n",
    "\n",
    "def first_missing_positive(nums):\n",
    "    n = len(nums)\n",
    "\n",
    "    # Perform cyclic sort to place each positive integer in its correct position\n",
    "    for i in range(n):\n",
    "        while 1 <= nums[i] <= n and nums[i] != nums[nums[i] - 1]:\n",
    "            swap(nums, i, nums[i] - 1)\n",
    "\n",
    "    # Find the first index where the element is not in the correct position\n",
    "    for i in range(n):\n",
    "        if nums[i] != i + 1:\n",
    "            return i + 1\n",
    "\n",
    "    # If all positive integers from 1 to n are present, then the first missing positive is n + 1\n",
    "    return n + 1\n",
    "\n",
    "if __name__ == \"__main__\":\n",
    "    # Example list\n",
    "    input_list = [3, 4, -1, 1]\n",
    "\n",
    "    # Find the first missing positive integer\n",
    "    result = first_missing_positive(input_list)\n",
    "\n",
    "    print(\"The first missing positive integer is:\", result)\n"
   ]
  },
  {
   "cell_type": "code",
   "execution_count": null,
   "id": "187487c4",
   "metadata": {},
   "outputs": [],
   "source": []
  }
 ],
 "metadata": {
  "kernelspec": {
   "display_name": "Python 3 (ipykernel)",
   "language": "python",
   "name": "python3"
  },
  "language_info": {
   "codemirror_mode": {
    "name": "ipython",
    "version": 3
   },
   "file_extension": ".py",
   "mimetype": "text/x-python",
   "name": "python",
   "nbconvert_exporter": "python",
   "pygments_lexer": "ipython3",
   "version": "3.9.7"
  }
 },
 "nbformat": 4,
 "nbformat_minor": 5
}
